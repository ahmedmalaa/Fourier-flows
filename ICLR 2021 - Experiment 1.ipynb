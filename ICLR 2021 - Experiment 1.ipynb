{
 "cells": [
  {
   "cell_type": "markdown",
   "source": [
    "# Application of Fourier Flows to Synthetic Data"
   ],
   "metadata": {}
  },
  {
   "cell_type": "markdown",
   "source": [
    "In this notebook, we reproduce the first experiment (Section 5.1) in our paper \"Generative Time-series Modeling with Fourier Flows\" published in ICLR 2021 by Ahmed M. Alaa, Alex Chan and Mihaela van der Schaar. "
   ],
   "metadata": {}
  },
  {
   "cell_type": "code",
   "execution_count": 1,
   "source": [
    "from data.synthetic import sine_data_generation\n",
    "from utils.spectral import get_frequencies, power_spectral_density\n",
    "from SequentialFlows import FourierFlow, RealNVP\n",
    "from models.sequential import RNNmodel\n",
    "from models.timegan import timegan\n",
    "\n",
    "import os\n",
    "import random\n",
    "\n",
    "import numpy as np\n",
    "import torch\n",
    "import tensorflow as tf\n",
    "\n",
    "from matplotlib import pyplot as plt\n",
    "%matplotlib inline\n",
    "import seaborn as sns"
   ],
   "outputs": [],
   "metadata": {
    "tags": []
   }
  },
  {
   "cell_type": "code",
   "execution_count": 2,
   "source": [
    "# Set seeds.\n",
    "SEED = 12345\n",
    "np.random.seed(SEED)\n",
    "tf.random.set_random_seed(1234)\n",
    "random.seed(SEED)\n",
    "torch.manual_seed(SEED)"
   ],
   "outputs": [
    {
     "output_type": "execute_result",
     "data": {
      "text/plain": [
       "<torch._C.Generator at 0x7fcb9a7c2ef0>"
      ]
     },
     "metadata": {},
     "execution_count": 2
    }
   ],
   "metadata": {}
  },
  {
   "cell_type": "code",
   "execution_count": 3,
   "source": [
    "# TF logging:\n",
    "os.environ['TF_CPP_MIN_LOG_LEVEL'] = '3'\n",
    "tf.logging.set_verbosity(tf.logging.ERROR)"
   ],
   "outputs": [],
   "metadata": {}
  },
  {
   "cell_type": "markdown",
   "source": [
    "### Sampling synthetic data\n",
    "\n",
    "Here we consider the following time-series data generation process:\n",
    "\n",
    "$x = \\sin(ft + \\phi),$ $\\phi \\sim \\mathcal{N}(0,1)$, $f \\sim Beta(\\alpha, \\beta), t \\in \\{0, \\ldots, T-1\\}$"
   ],
   "metadata": {}
  },
  {
   "cell_type": "code",
   "execution_count": 4,
   "source": [
    "T           = 101\n",
    "n_samples   = 1000\n",
    "X           = sine_data_generation(no=n_samples, seq_len=T, dim=1)"
   ],
   "outputs": [],
   "metadata": {
    "tags": []
   }
  },
  {
   "cell_type": "markdown",
   "source": [
    "### Fitting the Fourier Flows and Real-NVP models\n",
    "\n",
    "Imported from \"SequentialFlows\""
   ],
   "metadata": {}
  },
  {
   "cell_type": "code",
   "execution_count": 5,
   "source": [
    "FF_model    = FourierFlow(hidden=200, fft_size=T, n_flows=10, normalize=False)\n",
    "RVP_model   = RealNVP(hidden=200, T=T, n_flows=10) "
   ],
   "outputs": [],
   "metadata": {
    "collapsed": false,
    "jupyter": {
     "outputs_hidden": false
    }
   }
  },
  {
   "cell_type": "code",
   "execution_count": 6,
   "source": [
    "FF_losses   = FF_model.fit(X, epochs=1000, batch_size=128, \n",
    "                           learning_rate=1e-3, display_step=100)"
   ],
   "outputs": [
    {
     "output_type": "stream",
     "name": "stdout",
     "text": [
      "step: 0 \t/ 1000 \t----------\tloss: 128.966\n",
      "step: 100 \t/ 1000 \t|---------\tloss: -396.748\n",
      "step: 200 \t/ 1000 \t||--------\tloss: -467.169\n",
      "step: 300 \t/ 1000 \t|||-------\tloss: -473.703\n",
      "step: 400 \t/ 1000 \t||||------\tloss: -542.593\n",
      "step: 500 \t/ 1000 \t|||||-----\tloss: -566.997\n",
      "step: 600 \t/ 1000 \t||||||----\tloss: -597.534\n",
      "step: 700 \t/ 1000 \t|||||||---\tloss: -566.878\n",
      "step: 800 \t/ 1000 \t||||||||--\tloss: -607.090\n",
      "step: 900 \t/ 1000 \t|||||||||-\tloss: -640.931\n",
      "step: 999 \t/ 1000 \t||||||||||\tloss: -636.307\n",
      "Finished training!\n"
     ]
    }
   ],
   "metadata": {
    "collapsed": false,
    "jupyter": {
     "outputs_hidden": false
    }
   }
  },
  {
   "cell_type": "code",
   "execution_count": 7,
   "source": [
    "RVP_losses  = RVP_model.fit(X, epochs=1000, batch_size=128, \n",
    "                            learning_rate=1e-3, display_step=100)"
   ],
   "outputs": [
    {
     "output_type": "stream",
     "name": "stdout",
     "text": [
      "step: 0 \t/ 1000 \t----------\tloss: 194.081\n",
      "step: 100 \t/ 1000 \t|---------\tloss: 101.665\n",
      "step: 200 \t/ 1000 \t||--------\tloss: 86.574\n",
      "step: 300 \t/ 1000 \t|||-------\tloss: 51.666\n",
      "step: 400 \t/ 1000 \t||||------\tloss: 26.569\n",
      "step: 500 \t/ 1000 \t|||||-----\tloss: -4.609\n",
      "step: 600 \t/ 1000 \t||||||----\tloss: -7.381\n",
      "step: 700 \t/ 1000 \t|||||||---\tloss: -50.942\n",
      "step: 800 \t/ 1000 \t||||||||--\tloss: -62.359\n",
      "step: 900 \t/ 1000 \t|||||||||-\tloss: -68.475\n",
      "step: 999 \t/ 1000 \t||||||||||\tloss: -85.919\n",
      "Finished training!\n"
     ]
    }
   ],
   "metadata": {
    "collapsed": false,
    "jupyter": {
     "outputs_hidden": false
    }
   }
  },
  {
   "cell_type": "markdown",
   "source": [
    "### Sample from Fourier flows and Real-NVP models"
   ],
   "metadata": {}
  },
  {
   "cell_type": "code",
   "execution_count": 8,
   "source": [
    "X_gen_FF   = FF_model.sample(1000)\n",
    "X_gen_RVP  = RVP_model.sample(1000)"
   ],
   "outputs": [],
   "metadata": {
    "tags": []
   }
  },
  {
   "cell_type": "markdown",
   "source": [
    "### Fitting and sampling from TimeGAN model"
   ],
   "metadata": {}
  },
  {
   "cell_type": "code",
   "execution_count": 9,
   "source": [
    "X_                   = [X[k].reshape((-1, 1)) for k in range(len(X))]\n",
    "X_gen_TGAN           = timegan(X_, dict({'module': 'gru', 'hidden_dim': 24, 'num_layer': 3, 'iterations': 500, 'batch_size': 128}))"
   ],
   "outputs": [
    {
     "output_type": "stream",
     "name": "stdout",
     "text": [
      "Start Embedding Network Training\n",
      "step: 0/500, e_loss: 0.3597\n",
      "Finish Embedding Network Training\n",
      "Start Training with Supervised Loss Only\n",
      "step: 0/500, s_loss: 0.229\n",
      "Finish Training with Supervised Loss Only\n",
      "Start Joint Training\n",
      "step: 0/500, d_loss: 2.0919, g_loss_u: 0.6559, g_loss_s: 0.037, g_loss_v: 0.3831, e_loss_t0: 0.191\n",
      "Finish Joint Training\n"
     ]
    }
   ],
   "metadata": {
    "collapsed": false,
    "jupyter": {
     "outputs_hidden": false
    }
   }
  },
  {
   "cell_type": "markdown",
   "source": [
    "### Fitting predictive RNN models"
   ],
   "metadata": {}
  },
  {
   "cell_type": "markdown",
   "source": [
    "We evaluate the accuracy of the sampled data in the time-domain by assessing their predictive usefulness as follows: we trained a vanilla RNN model using each of the three synthetically generated samples to sequentially predict the next value in each time series in the original data. We then evaluate the MAE of the three RNN models across all time steps."
   ],
   "metadata": {}
  },
  {
   "cell_type": "markdown",
   "source": [
    "#### Instantiate RNN models and prepare labeled sequential data"
   ],
   "metadata": {}
  },
  {
   "cell_type": "code",
   "execution_count": 10,
   "source": [
    "predictive_model_TGAN    = RNNmodel(HIDDEN_UNITS=100, NUM_LAYERS=2, MAX_STEPS=100, INPUT_SIZE=1)\n",
    "predictive_model_RealNVP = RNNmodel(HIDDEN_UNITS=100, NUM_LAYERS=2, MAX_STEPS=100, INPUT_SIZE=1)\n",
    "predictive_model_FF      = RNNmodel(HIDDEN_UNITS=100, NUM_LAYERS=2, MAX_STEPS=100, INPUT_SIZE=1)\n",
    "\n",
    "X_FF                     = [X_gen_FF[k][:len(X_gen_FF[k])-1] for k in range(len(X_gen_FF))]\n",
    "Y_FF                     = [X_gen_FF[k][1:] for k in range(len(X_gen_FF))]\n",
    "\n",
    "X_RealNVP                = [X_gen_RVP [k][:len(X_gen_RVP [k])-1] for k in range(len(X_gen_RVP ))]\n",
    "Y_RealNVP                = [X_gen_RVP [k][1:] for k in range(len(X_gen_RVP ))]\n",
    "\n",
    "X_TGAN                   = [X_gen_TGAN[k][:len(X_gen_TGAN[k])-1] for k in range(len(X_gen_TGAN))]\n",
    "Y_TGAN                   = [X_gen_TGAN[k][1:] for k in range(len(X_gen_TGAN))]"
   ],
   "outputs": [],
   "metadata": {
    "collapsed": false,
    "jupyter": {
     "outputs_hidden": false
    }
   }
  },
  {
   "cell_type": "markdown",
   "source": [
    "#### Fit the three RNN models, each on a synthetic data set generated by a different baseline"
   ],
   "metadata": {}
  },
  {
   "cell_type": "code",
   "execution_count": 11,
   "source": [
    "predictive_model_FF.fit(X_FF, Y_FF)\n",
    "predictive_model_RealNVP.fit(X_RealNVP, Y_RealNVP)\n",
    "predictive_model_TGAN.fit(X_TGAN, Y_TGAN)"
   ],
   "outputs": [
    {
     "output_type": "stream",
     "name": "stdout",
     "text": [
      "Epoch:  0 | train loss: 3.2041\n",
      "Epoch:  1 | train loss: 0.2511\n",
      "Epoch:  2 | train loss: 0.0413\n",
      "Epoch:  3 | train loss: 0.0650\n",
      "Epoch:  4 | train loss: 0.0328\n",
      "Epoch:  0 | train loss: 0.2530\n",
      "Epoch:  1 | train loss: 0.2134\n",
      "Epoch:  2 | train loss: 0.2002\n",
      "Epoch:  3 | train loss: 0.2047\n",
      "Epoch:  4 | train loss: 0.2081\n",
      "Epoch:  0 | train loss: 0.4792\n",
      "Epoch:  1 | train loss: 0.0524\n",
      "Epoch:  2 | train loss: 0.0398\n",
      "Epoch:  3 | train loss: 0.0392\n",
      "Epoch:  4 | train loss: 0.0327\n"
     ]
    }
   ],
   "metadata": {
    "collapsed": false,
    "jupyter": {
     "outputs_hidden": false
    }
   }
  },
  {
   "cell_type": "markdown",
   "source": [
    "### Visualizing the results"
   ],
   "metadata": {}
  },
  {
   "cell_type": "markdown",
   "source": [
    "#### Reconstruction of Figure 2(a). \n",
    "\n",
    "The three figures below demonstrate the spectral components of a sample from each of the three models. Each sample will have a slightly different spectrum at each run. On average, the TimeGAN model tends to \"memorize\" the real data. This manifest in the support of the estimated spectral density in one of two ways. The model either concentrates the probability mass on the frequency components observed in the real data (as in the sample illustrated in the paper), or covers a wider support including higher and lower frequencies than the ones observed based on outliers in the data."
   ],
   "metadata": {}
  },
  {
   "cell_type": "code",
   "execution_count": 12,
   "source": [
    "sns.distplot(get_frequencies(X), hist=False, color=\"black\", kde_kws={'linewidth':3})\n",
    "sns.distplot(get_frequencies(X_gen_FF), hist=False, color=\"red\", kde_kws={'linestyle':'--', 'linewidth':2})"
   ],
   "outputs": [
    {
     "output_type": "execute_result",
     "data": {
      "text/plain": [
       "<AxesSubplot:ylabel='Density'>"
      ]
     },
     "metadata": {},
     "execution_count": 12
    },
    {
     "output_type": "display_data",
     "data": {
      "image/png": "[encoded data removed]",
      "text/plain": [
       "<Figure size 432x288 with 1 Axes>"
      ]
     },
     "metadata": {
      "needs_background": "light"
     }
    }
   ],
   "metadata": {
    "collapsed": false,
    "jupyter": {
     "outputs_hidden": false
    }
   }
  },
  {
   "cell_type": "code",
   "execution_count": 13,
   "source": [
    "sns.distplot(get_frequencies(X), hist=False, color=\"black\", kde_kws={'linewidth':3})\n",
    "sns.distplot(get_frequencies(X_gen_RVP), hist=False, color=\"red\", kde_kws={'linestyle':'--', 'linewidth':2})"
   ],
   "outputs": [
    {
     "output_type": "execute_result",
     "data": {
      "text/plain": [
       "<AxesSubplot:ylabel='Density'>"
      ]
     },
     "metadata": {},
     "execution_count": 13
    },
    {
     "output_type": "display_data",
     "data": {
      "image/png": "[encoded data removed]",
      "text/plain": [
       "<Figure size 432x288 with 1 Axes>"
      ]
     },
     "metadata": {
      "needs_background": "light"
     }
    }
   ],
   "metadata": {
    "collapsed": false,
    "jupyter": {
     "outputs_hidden": false
    }
   }
  },
  {
   "cell_type": "code",
   "execution_count": 14,
   "source": [
    "sns.distplot(get_frequencies(X), hist=False, color=\"black\", kde_kws={'linewidth':3})\n",
    "sns.distplot(get_frequencies(X_gen_TGAN), hist=False, color=\"red\", kde_kws={'linestyle':'--', 'linewidth':2})"
   ],
   "outputs": [
    {
     "output_type": "execute_result",
     "data": {
      "text/plain": [
       "<AxesSubplot:ylabel='Density'>"
      ]
     },
     "metadata": {},
     "execution_count": 14
    },
    {
     "output_type": "display_data",
     "data": {
      "image/png": "[encoded data removed]",
      "text/plain": [
       "<Figure size 432x288 with 1 Axes>"
      ]
     },
     "metadata": {
      "needs_background": "light"
     }
    }
   ],
   "metadata": {
    "collapsed": false,
    "jupyter": {
     "outputs_hidden": false
    }
   }
  },
  {
   "cell_type": "markdown",
   "source": [
    "#### Reconstruction of Figure 2(b). \n",
    "\n",
    "Learning curves, accuracy of the recovered spectra and accuracy of RNN models trained on synthetic data. "
   ],
   "metadata": {}
  },
  {
   "cell_type": "code",
   "execution_count": 15,
   "source": [
    "plt.plot(RVP_losses, linewidth=2, color=\"b\")\n",
    "plt.plot(FF_losses, linewidth=2, color=\"r\")\n",
    "\n",
    "plt.xlabel(\"Number of Epochs\", fontsize=12)\n",
    "plt.ylabel(\"Negative Log-likelihood\", fontsize=12)\n",
    "\n",
    "plt.grid(axis=\"y\")"
   ],
   "outputs": [
    {
     "output_type": "display_data",
     "data": {
      "image/png": "[encoded data removed]",
      "text/plain": [
       "<Figure size 432x288 with 1 Axes>"
      ]
     },
     "metadata": {
      "needs_background": "light"
     }
    }
   ],
   "metadata": {
    "collapsed": false,
    "jupyter": {
     "outputs_hidden": false
    }
   }
  },
  {
   "cell_type": "code",
   "execution_count": 16,
   "source": [
    "FF_PSD_Errors      = np.abs(power_spectral_density(X)-power_spectral_density(X_gen_FF))[:100]\n",
    "RealNVP_PSD_Errors = np.abs(power_spectral_density(X)-power_spectral_density(X_gen_RVP))[:100]\n",
    "TGAN_PSD_Errors    = np.abs(power_spectral_density(X)-power_spectral_density(X_gen_TGAN.reshape((1000, 101))))[:100]"
   ],
   "outputs": [],
   "metadata": {
    "collapsed": false,
    "jupyter": {
     "outputs_hidden": false
    }
   }
  },
  {
   "cell_type": "code",
   "execution_count": 17,
   "source": [
    "freqs              = np.linspace(0, 1, 100)\n",
    "\n",
    "plt.plot(freqs, np.cumsum(TGAN_PSD_Errors)[::-1], linewidth=3, color=\"g\", linestyle=\"--\")\n",
    "plt.plot(freqs, np.cumsum(FF_PSD_Errors)[::-1], linewidth=3, color=\"r\")\n",
    "plt.plot(freqs, np.cumsum(RealNVP_PSD_Errors)[::-1], linewidth=3, color=\"b\", linestyle=\"-.\")\n",
    "\n",
    "plt.grid(axis=\"y\")"
   ],
   "outputs": [
    {
     "output_type": "display_data",
     "data": {
      "image/png": "[encoded data removed]",
      "text/plain": [
       "<Figure size 432x288 with 1 Axes>"
      ]
     },
     "metadata": {
      "needs_background": "light"
     }
    }
   ],
   "metadata": {
    "collapsed": false,
    "jupyter": {
     "outputs_hidden": false
    }
   }
  },
  {
   "cell_type": "code",
   "execution_count": 18,
   "source": [
    "# ---"
   ],
   "outputs": [],
   "metadata": {
    "collapsed": false,
    "jupyter": {
     "outputs_hidden": false
    }
   }
  },
  {
   "cell_type": "code",
   "execution_count": 19,
   "source": [
    "X_true                  = [X[k][:len(X[k])-1] for k in range(len(X))]\n",
    "Y_true                  = [X[k][1:] for k in range(len(X))]\n",
    "\n",
    "X_TGAN_pred             = predictive_model_TGAN.predict(X_true)\n",
    "X_FF_pred               = predictive_model_FF.predict(X_true)\n",
    "X_RealNVP_pred          = predictive_model_RealNVP.predict(X_true)"
   ],
   "outputs": [],
   "metadata": {
    "collapsed": false,
    "jupyter": {
     "outputs_hidden": false
    }
   }
  },
  {
   "cell_type": "code",
   "execution_count": 20,
   "source": [
    "TGAN_RNN_errs    = np.mean(np.abs(np.array(X_TGAN_pred) - np.array(Y_true)), axis=0)\n",
    "FF_RNN_errs      = np.mean(np.abs(np.array(X_FF_pred) - np.array(Y_true)), axis=0)\n",
    "RealNVP_RNN_errs = np.mean(np.abs(np.array(X_RealNVP_pred) - np.array(Y_true)), axis=0)"
   ],
   "outputs": [],
   "metadata": {
    "collapsed": false,
    "jupyter": {
     "outputs_hidden": false
    }
   }
  },
  {
   "cell_type": "code",
   "execution_count": 21,
   "source": [
    "plt.plot(TGAN_RNN_errs, linewidth=3, color=\"g\")\n",
    "plt.plot(FF_RNN_errs, linewidth=3, color=\"r\")\n",
    "plt.plot(RealNVP_RNN_errs, linewidth=3, color=\"b\")\n",
    "\n",
    "plt.grid(axis=\"y\")"
   ],
   "outputs": [
    {
     "output_type": "display_data",
     "data": {
      "image/png": "[encoded data removed]",
      "text/plain": [
       "<Figure size 432x288 with 1 Axes>"
      ]
     },
     "metadata": {
      "needs_background": "light"
     }
    }
   ],
   "metadata": {
    "collapsed": false,
    "jupyter": {
     "outputs_hidden": false
    }
   }
  }
 ],
 "metadata": {
  "kernelspec": {
   "name": "python3",
   "display_name": "Python 3.6.13 64-bit ('py36_ff': conda)"
  },
  "language_info": {
   "codemirror_mode": {
    "name": "ipython",
    "version": 3
   },
   "file_extension": ".py",
   "mimetype": "text/x-python",
   "name": "python",
   "nbconvert_exporter": "python",
   "pygments_lexer": "ipython3",
   "version": "3.6.13"
  },
  "interpreter": {
   "hash": "da75569d282df2ecc26465f5f7c1232e531bd22dca3c05ec195478da3573bd07"
  }
 },
 "nbformat": 4,
 "nbformat_minor": 4
}