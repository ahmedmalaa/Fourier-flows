{
 "cells": [
  {
   "cell_type": "markdown",
   "metadata": {},
   "source": [
    "# Application of Fourier Flows to Real Data"
   ]
  },
  {
   "cell_type": "markdown",
   "metadata": {},
   "source": [
    "In this notebook, we show how to train a Fourier Flow model using the setup in the second experiment (Section 5.2) of our paper \"Generative Time-series Modeling with Fourier Flows\" published in ICLR 2021 by Ahmed M. Alaa, Alex Chan and Mihaela van der Schaar. "
   ]
  },
  {
   "cell_type": "code",
   "execution_count": 4,
   "metadata": {
    "collapsed": false
   },
   "outputs": [],
   "source": [
    "from __future__ import absolute_import, division, print_function\n",
    "from data_loading import real_data_loading\n",
    "import numpy as np\n",
    "import pickle\n",
    "\n",
    "from utils.spectral import *\n",
    "from SequentialFlows import *\n",
    "\n",
    "from metrics.PRcurve import *\n",
    "from metrics.MAE import *\n",
    "\n",
    "from matplotlib import pyplot as plt\n",
    "%matplotlib inline\n",
    "import seaborn as sns"
   ]
  },
  {
   "cell_type": "markdown",
   "metadata": {},
   "source": [
    "### Example: training on the stocks data set"
   ]
  },
  {
   "cell_type": "code",
   "execution_count": 18,
   "metadata": {
    "collapsed": false
   },
   "outputs": [],
   "source": [
    "# Options for data_name = [\"stock\", \"energy\", \"lung\"]\n",
    "# -\n",
    "\n",
    "T         = 100\n",
    "data_name = \"stock\"\n",
    "\n",
    "X         = real_data_loading(data_name=data_name, seq_len=T)"
   ]
  },
  {
   "cell_type": "code",
   "execution_count": 19,
   "metadata": {
    "collapsed": false
   },
   "outputs": [],
   "source": [
    "FF_model  = FourierFlow(hidden=200, fft_size=T + 1, n_flows=5, normalize=True) "
   ]
  },
  {
   "cell_type": "code",
   "execution_count": 20,
   "metadata": {
    "collapsed": false
   },
   "outputs": [
    {
     "name": "stdout",
     "output_type": "stream",
     "text": [
      "step: 0 \t/ 500 \t-----\tloss: 179.473\n",
      "step: 100 \t/ 500 \t|----\tloss: 42.948\n",
      "step: 200 \t/ 500 \t||---\tloss: 30.412\n",
      "step: 300 \t/ 500 \t|||--\tloss: 27.624\n",
      "step: 400 \t/ 500 \t||||-\tloss: 23.632\n",
      "step: 499 \t/ 500 \t|||||\tloss: 22.163\n",
      "Finished training!\n"
     ]
    }
   ],
   "source": [
    "FF_losses = FF_model.fit(X, epochs=500, batch_size=500, \n",
    "                         learning_rate=1e-3, display_step=100)"
   ]
  },
  {
   "cell_type": "code",
   "execution_count": 21,
   "metadata": {
    "collapsed": true
   },
   "outputs": [],
   "source": [
    "X_synthetic = FF_model.sample(10000)"
   ]
  },
  {
   "cell_type": "code",
   "execution_count": 22,
   "metadata": {
    "collapsed": false
   },
   "outputs": [
    {
     "data": {
      "text/plain": [
       "0.9916293741563228"
      ]
     },
     "execution_count": 22,
     "metadata": {},
     "output_type": "execute_result"
    }
   ],
   "source": [
    "computeF1(X, X_synthetic) "
   ]
  },
  {
   "cell_type": "code",
   "execution_count": null,
   "metadata": {
    "collapsed": false
   },
   "outputs": [
    {
     "name": "stdout",
     "output_type": "stream",
     "text": [
      "Epoch:  0 | train loss: 0.1324\n",
      "Epoch:  1 | train loss: 0.0016\n",
      "Epoch:  2 | train loss: 0.0012\n",
      "Epoch:  3 | train loss: 0.0007\n",
      "Epoch:  4 | train loss: 0.0007\n"
     ]
    }
   ],
   "source": [
    "computeMAE(X, X_synthetic)"
   ]
  },
  {
   "cell_type": "markdown",
   "metadata": {},
   "source": [
    "### Save model"
   ]
  },
  {
   "cell_type": "code",
   "execution_count": null,
   "metadata": {
    "collapsed": true
   },
   "outputs": [],
   "source": [
    "pickle.dump(FF_model, open(\"results/FF_model_stock.p\", \"wb\"))"
   ]
  },
  {
   "cell_type": "markdown",
   "metadata": {},
   "source": [
    "### Notes on error bars and robustness of evaluation"
   ]
  },
  {
   "cell_type": "markdown",
   "metadata": {
    "collapsed": true
   },
   "source": [
    "Because the training/testing paradigm does not apply to generative models, we cannot use \"cross-validation\" to evaluate variations in model performance as we do in predictive models. There two ways where we can assess the stability of the results. The first is by sampling a large number of synthetic samples and evaluate the convergence of the performance metric $M$, i.e. $\\lim_{N\\to \\infty} M$. This gets rid of variations due to the finite synthetic sample. To evaluate variations due to the finite training sample, we can train multiple models and average the performance metric, $\\mathbb{E}[M]$, as shown below."
   ]
  },
  {
   "cell_type": "code",
   "execution_count": 23,
   "metadata": {
    "collapsed": false
   },
   "outputs": [
    {
     "name": "stdout",
     "output_type": "stream",
     "text": [
      "Experiment number:  0\n",
      "step: 0 \t/ 500 \t-----\tloss: 192.278\n",
      "step: 100 \t/ 500 \t|----\tloss: 52.626\n",
      "step: 200 \t/ 500 \t||---\tloss: 33.135\n",
      "step: 300 \t/ 500 \t|||--\tloss: 30.056\n",
      "step: 400 \t/ 500 \t||||-\tloss: 26.186\n",
      "step: 499 \t/ 500 \t|||||\tloss: 26.628\n",
      "Finished training!\n",
      "F1 score 0.9904076736916793\n",
      "Experiment number:  1\n",
      "step: 0 \t/ 500 \t-----\tloss: 196.948\n",
      "step: 100 \t/ 500 \t|----\tloss: 49.698\n",
      "step: 200 \t/ 500 \t||---\tloss: 32.530\n",
      "step: 300 \t/ 500 \t|||--\tloss: 27.203\n",
      "step: 400 \t/ 500 \t||||-\tloss: 24.339\n",
      "step: 499 \t/ 500 \t|||||\tloss: 32.403\n",
      "Finished training!\n",
      "F1 score 0.989612473934336\n",
      "Experiment number:  2\n",
      "step: 0 \t/ 500 \t-----\tloss: 182.618\n",
      "step: 100 \t/ 500 \t|----\tloss: 48.284\n",
      "step: 200 \t/ 500 \t||---\tloss: 30.790\n",
      "step: 300 \t/ 500 \t|||--\tloss: 26.690\n",
      "step: 400 \t/ 500 \t||||-\tloss: 23.271\n",
      "step: 499 \t/ 500 \t|||||\tloss: 21.366\n",
      "Finished training!\n",
      "F1 score 0.9937573102036994\n",
      "Experiment number:  3\n",
      "step: 0 \t/ 500 \t-----\tloss: 190.327\n",
      "step: 100 \t/ 500 \t|----\tloss: 50.147\n",
      "step: 200 \t/ 500 \t||---\tloss: 29.676\n",
      "step: 300 \t/ 500 \t|||--\tloss: 26.061\n",
      "step: 400 \t/ 500 \t||||-\tloss: 23.224\n",
      "step: 499 \t/ 500 \t|||||\tloss: 21.373\n",
      "Finished training!\n",
      "F1 score 0.9632173111913506\n",
      "Experiment number:  4\n",
      "step: 0 \t/ 500 \t-----\tloss: 190.183\n",
      "step: 100 \t/ 500 \t|----\tloss: 50.146\n",
      "step: 200 \t/ 500 \t||---\tloss: 31.272\n",
      "step: 300 \t/ 500 \t|||--\tloss: 26.603\n",
      "step: 400 \t/ 500 \t||||-\tloss: 27.002\n",
      "step: 499 \t/ 500 \t|||||\tloss: 21.238\n",
      "Finished training!\n",
      "F1 score 0.9879789940511201\n"
     ]
    }
   ],
   "source": [
    "FF_models = []\n",
    "num_runs  = 5\n",
    "\n",
    "for k in range(num_runs):\n",
    "    \n",
    "    print(\"Experiment number: \", k)\n",
    "    FF_model_  = FourierFlow(hidden=200, fft_size=T + 1, n_flows=5, normalize=True) \n",
    "    _          = FF_model_.fit(X, epochs=500, batch_size=500, \n",
    "                               learning_rate=1e-3, display_step=100)\n",
    "    \n",
    "    FF_models.append(FF_model_)\n",
    "    print(\"F1 score\", computeF1(X, FF_model_.sample(10000)))"
   ]
  },
  {
   "cell_type": "code",
   "execution_count": 24,
   "metadata": {
    "collapsed": true
   },
   "outputs": [],
   "source": [
    "X_synthetic_samples = [FF_models[k].sample(10000) for k in range(len(FF_models))]"
   ]
  },
  {
   "cell_type": "code",
   "execution_count": 25,
   "metadata": {
    "collapsed": false
   },
   "outputs": [
    {
     "data": {
      "text/plain": [
       "(0.9851363855153196, 0.010091262499501728)"
      ]
     },
     "execution_count": 25,
     "metadata": {},
     "output_type": "execute_result"
    }
   ],
   "source": [
    "F1_scores           = np.array([computeF1(X, X_synthetic_samples[k]) for k in range(len(X_synthetic_samples))])\n",
    "\n",
    "(np.mean(F1_scores), np.std(F1_scores))"
   ]
  }
 ],
 "metadata": {
  "kernelspec": {
   "display_name": "tensorflow",
   "language": "python",
   "name": "tensorflow"
  },
  "language_info": {
   "codemirror_mode": {
    "name": "ipython",
    "version": 3
   },
   "file_extension": ".py",
   "mimetype": "text/x-python",
   "name": "python",
   "nbconvert_exporter": "python",
   "pygments_lexer": "ipython3",
   "version": "3.6.1"
  }
 },
 "nbformat": 4,
 "nbformat_minor": 2
}
